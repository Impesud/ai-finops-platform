{
 "cells": [
  {
   "cell_type": "markdown",
   "metadata": {},
   "source": [
    "# 📊 00 - Data Cleaning & Feature Engineering\n",
    "This notebook loads the AWS cost data, cleans it, and creates features for forecasting and anomaly detection."
   ]
  },
  {
   "cell_type": "code",
   "execution_count": null,
   "metadata": {},
   "outputs": [],
   "source": [
    "# ✅ Import the ETL utility function\n",
    "from app.services.etl import load_and_transform\n",
    "\n",
    "# 📂 Load and transform the AWS cost dataset\n",
    "df = load_and_transform(\"../data/aws_cost_explorer_1000.csv\")\n",
    "\n",
    "# 👁️ Preview the first rows\n",
    "df.head()"
   ]
  }
 ],
 "metadata": {
  "kernelspec": {
   "display_name": "Python 3",
   "language": "python",
   "name": "python3"
  },
  "language_info": {
   "name": "python",
   "version": "3.12"
  }
 },
 "nbformat": 4,
 "nbformat_minor": 2
}
